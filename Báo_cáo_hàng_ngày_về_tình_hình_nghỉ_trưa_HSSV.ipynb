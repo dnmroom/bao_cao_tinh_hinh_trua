{
  "nbformat": 4,
  "nbformat_minor": 0,
  "metadata": {
    "colab": {
      "provenance": []
    },
    "kernelspec": {
      "name": "python3",
      "display_name": "Python 3"
    },
    "language_info": {
      "name": "python"
    }
  },
  "cells": [
    {
      "cell_type": "code",
      "execution_count": 4,
      "metadata": {
        "colab": {
          "base_uri": "https://localhost:8080/"
        },
        "id": "3ffRR_Fn9Djw",
        "outputId": "0c6dd583-6d6c-4c83-eac4-e3afab2ec03e"
      },
      "outputs": [
        {
          "output_type": "stream",
          "name": "stdout",
          "text": [
            "Báo cáo đã được lưu thành file Excel: Báo cáo ngày_19-09-2024.xlsx\n"
          ]
        }
      ],
      "source": [
        "from google.colab import auth\n",
        "from google.auth import default\n",
        "from google.auth.transport.requests import Request\n",
        "import gspread\n",
        "import pandas as pd\n",
        "from datetime import datetime\n",
        "from openpyxl import Workbook\n",
        "from openpyxl.utils.dataframe import dataframe_to_rows\n",
        "from openpyxl.styles import Font, Alignment, Border, Side\n",
        "from openpyxl.utils import get_column_letter\n",
        "\n",
        "# Đăng nhập và thiết lập kết nối\n",
        "auth.authenticate_user()\n",
        "creds, _ = default()\n",
        "creds.refresh(Request())\n",
        "gc = gspread.authorize(creds)\n",
        "sheet = gc.open_by_url('https://docs.google.com/spreadsheets/d/1JG0DlXMc_iw3G-5N2_IYzloQWAVY3Jj_Pn30G4rW3JQ/edit?usp=sharing')\n",
        "\n",
        "# Lấy dữ liệu và tạo DataFrame\n",
        "worksheet = sheet.get_worksheet(0)\n",
        "all_data = worksheet.get_all_values()\n",
        "df = pd.DataFrame(all_data[1:], columns=all_data[0])\n",
        "\n",
        "# Làm sạch và chọn dữ liệu cần thiết\n",
        "df.columns = df.columns.str.strip()\n",
        "report_df = df[['Dấu thời gian', 'Nhập mã học sinh/sinh viên',\n",
        "                'Phản ánh của học sinh/sinh viên về tình hình ở lại trưa (nếu có)', 'Họ và tên HSSV']].copy()\n",
        "\n",
        "# Thêm cột STT\n",
        "report_df.reset_index(drop=True, inplace=True)\n",
        "report_df.index += 1\n",
        "report_df.insert(0, 'STT', report_df.index)\n",
        "\n",
        "# Tạo workbook và thiết lập định dạng\n",
        "wb = Workbook()\n",
        "ws = wb.active\n",
        "ws.title = \"Báo cáo HSSV ở lại trưa\"\n",
        "\n",
        "# Định dạng tiêu đề\n",
        "ws.merge_cells('A1:E1')\n",
        "ws['A1'] = 'BÁO CÁO TÌNH HÌNH HSSV Ở LẠI TRƯA HÀNG NGÀY'\n",
        "ws['A1'].font = Font(size=14, bold=True)\n",
        "ws['A1'].alignment = Alignment(horizontal='center')\n",
        "\n",
        "# Thêm dữ liệu và định dạng cột\n",
        "thin_border = Border(left=Side(style='thin'), right=Side(style='thin'), top=Side(style='thin'), bottom=Side(style='thin'))\n",
        "for r_idx, row in enumerate(dataframe_to_rows(report_df, index=False, header=True), start=2):\n",
        "    for c_idx, value in enumerate(row, start=1):\n",
        "        cell = ws.cell(row=r_idx, column=c_idx, value=value)\n",
        "        cell.border = thin_border\n",
        "        cell.alignment = Alignment(horizontal='center')\n",
        "        if r_idx == 2:\n",
        "            cell.font = Font(bold=True)\n",
        "\n",
        "# Điều chỉnh độ rộng cột dựa trên nội dung của các cột\n",
        "for col in ws.columns:\n",
        "    max_length = 0\n",
        "    column_letter = get_column_letter(col[0].column)  # Lấy chữ cái của cột từ thuộc tính column\n",
        "    if column_letter == 'A':  # Giả sử cột 'STT' là cột đầu tiên\n",
        "        ws.column_dimensions[column_letter].width = 10  # Đặt độ rộng cố định cho cột 'STT'\n",
        "    else:\n",
        "        for cell in col:\n",
        "            if cell.value:\n",
        "                max_length = max(max_length, len(str(cell.value)))\n",
        "        adjusted_width = (max_length + 2) * 1.2  # Thêm một chút không gian thêm\n",
        "        ws.column_dimensions[column_letter].width = adjusted_width\n",
        "\n",
        "# Thêm ghi chú cuối bảng\n",
        "last_row = ws.max_row + 1\n",
        "ws.merge_cells(f'A{last_row}:E{last_row}')\n",
        "ws[f'A{last_row}'] = \"PHÒNG THANH TRA, KHẢO THÍ - CÔNG TÁC HSSV\"\n",
        "ws[f'A{last_row}'].font = Font(bold=True)\n",
        "ws[f'A{last_row}'].alignment = Alignment(horizontal='right')\n",
        "\n",
        "# Lưu workbook\n",
        "file_name = f'Báo cáo tình hình HSSV ở lại trưa ngày_{datetime.today().strftime(\"%d-%m-%Y\")}.xlsx'\n",
        "wb.save(file_name)\n",
        "\n",
        "print(f\"Báo cáo đã được lưu thành file Excel: {file_name}\")\n"
      ]
    }
  ]
}